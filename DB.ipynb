{
 "cells": [
  {
   "cell_type": "code",
   "execution_count": 1,
   "metadata": {},
   "outputs": [],
   "source": [
    "from imdbpie import Imdb\n",
    "from imdbpie import ImdbFacade as imdbf\n",
    "import pandas as pd"
   ]
  },
  {
   "cell_type": "code",
   "execution_count": 2,
   "metadata": {},
   "outputs": [],
   "source": [
    "imdb=Imdb()\n",
    "imdbf=imdbf()"
   ]
  },
  {
   "cell_type": "code",
   "execution_count": 33,
   "metadata": {},
   "outputs": [
    {
     "name": "stdout",
     "output_type": "stream",
     "text": [
      "['Black Panther: Wakanda Forever']\n"
     ]
    }
   ],
   "source": [
    "titles=['Black Adam','The Peripheral',\"Black Panther: Wakanda Forever\"]\n",
    "df=pd.DataFrame(columns=['Title','Review','Review Rating'])\n",
    "i=0\n",
    "no_review=[]\n",
    "for title in titles:\n",
    "  try:\n",
    "    res=imdbf.search_for_title(title)\n",
    "  except:\n",
    "    no_review.append(title)\n",
    "  else:\n",
    "    id=res[0].imdb_id\n",
    "    reviews=imdb.get_title_user_reviews(id)['reviews']\n",
    "\n",
    "    for review in reviews:\n",
    "      df.loc[i]=[title,review['reviewText'],review['authorRating']]\n",
    "      i=i+1\n",
    "df.to_csv('hello_world.csv')\n",
    "print(no_review)"
   ]
  }
 ],
 "metadata": {
  "kernelspec": {
   "display_name": "Python 3.7.7 64-bit",
   "language": "python",
   "name": "python3"
  },
  "language_info": {
   "codemirror_mode": {
    "name": "ipython",
    "version": 3
   },
   "file_extension": ".py",
   "mimetype": "text/x-python",
   "name": "python",
   "nbconvert_exporter": "python",
   "pygments_lexer": "ipython3",
   "version": "3.7.7"
  },
  "orig_nbformat": 4,
  "vscode": {
   "interpreter": {
    "hash": "aba257262fddbabb4bdbb672c296781410c54125b9dd9ae65f0141fbb681ef2e"
   }
  }
 },
 "nbformat": 4,
 "nbformat_minor": 2
}
