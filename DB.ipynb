{
 "cells": [
  {
   "cell_type": "code",
   "execution_count": 1,
   "metadata": {},
   "outputs": [],
   "source": [
    "from imdbpie import Imdb\n",
    "from imdbpie import ImdbFacade as imdbf\n",
    "import pandas as pd"
   ]
  },
  {
   "cell_type": "code",
   "execution_count": 2,
   "metadata": {},
   "outputs": [],
   "source": [
    "imdb=Imdb()\n",
    "imdbf=imdbf()"
   ]
  },
  {
   "cell_type": "code",
   "execution_count": 33,
   "metadata": {},
   "outputs": [
    {
     "name": "stdout",
     "output_type": "stream",
     "text": [
      "['Black Panther: Wakanda Forever']\n"
     ]
    }
   ],
   "source": [
    "titles=['Black Adam','The Peripheral',\"Black Panther: Wakanda Forever\"]\n",
    "df=pd.DataFrame(columns=['Title','Review','Review Rating'])\n",
    "i=0\n",
    "no_review=[]\n",
    "for title in titles:\n",
    "  try:\n",
    "    res=imdbf.search_for_title(title)\n",
    "  except:\n",
    "    no_review.append(title)\n",
    "  else:\n",
    "    id=res[0].imdb_id\n",
    "    reviews=imdb.get_title_user_reviews(id)['reviews']\n",
    "\n",
    "    for review in reviews:\n",
    "      df.loc[i]=[title,review['reviewText'],review['authorRating']]\n",
    "      i=i+1\n",
    "df.to_csv('hello_world.csv')\n",
    "print(no_review)"
   ]
  },
  {
   "cell_type": "markdown",
   "metadata": {},
   "source": [
    "## Get Ids of no_review movie titles"
   ]
  },
  {
   "cell_type": "code",
   "execution_count": 34,
   "metadata": {},
   "outputs": [],
   "source": [
    "from selenium import webdriver \n",
    "from selenium.webdriver.common.keys import Keys\n",
    "from time import sleep"
   ]
  },
  {
   "cell_type": "code",
   "execution_count": 35,
   "metadata": {},
   "outputs": [],
   "source": [
    "def get_titles(titles):\n",
    "  l=[]\n",
    "  for title in titles:\n",
    "    x = title.replace(\" \", \"+\")\n",
    "    l.append(x)\n",
    "  return l"
   ]
  },
  {
   "cell_type": "code",
   "execution_count": 36,
   "metadata": {},
   "outputs": [],
   "source": [
    "def get_ids(url):\n",
    "  val=url.split('/')\n",
    "  return val[4]"
   ]
  },
  {
   "cell_type": "code",
   "execution_count": 38,
   "metadata": {},
   "outputs": [
    {
     "name": "stdout",
     "output_type": "stream",
     "text": [
      "https://www.imdb.com/title/tt0468569/?ref_=fn_al_tt_1\n",
      "tt0468569\n",
      "https://www.imdb.com/title/tt1345836/?ref_=fn_al_tt_1\n",
      "tt1345836\n",
      "https://www.imdb.com/title/tt6443346/?ref_=fn_al_tt_1\n",
      "tt6443346\n",
      "['tt0468569', 'tt1345836', 'tt6443346']\n"
     ]
    }
   ],
   "source": [
    "ids=[]\n",
    "titles=[\"The Dark Knight\",\"The Dark Knight Rises\",\"Black Adam\"] #these are test values. Use no_review here  \n",
    "query_titles=get_titles(titles)\n",
    "driver=webdriver.Chrome(executable_path=r\"./chromedriver.exe\")\n",
    "url=\"https://www.imdb.com/find?q=\"\n",
    "for query_title in query_titles:\n",
    "  url1=url+query_title\n",
    "  driver.get(url1)\n",
    "  sleep(3)\n",
    "  try:\n",
    "    element=driver.find_element_by_xpath('/html/body/div[2]/div/div[2]/div[3]/div[1]/div/div[2]/table/tbody/tr[1]/td[1]').click()\n",
    "  except:\n",
    "    element=driver.find_element_by_xpath('/html/body/div[2]/main/div[2]/div[3]/section/div/div[1]/section[2]/div[2]/ul/li[1]/div[2]').click()\n",
    "  else:\n",
    "    sleep(5)\n",
    "    get_url = driver.current_url\n",
    "    print(get_url)\n",
    "    sleep(2)\n",
    "    id=get_ids(get_url)\n",
    "    print(id)\n",
    "    ids.append(id)\n",
    "driver.close()\n",
    "print(ids)"
   ]
  },
  {
   "cell_type": "markdown",
   "metadata": {},
   "source": [
    "## Get Reviews by ids"
   ]
  },
  {
   "cell_type": "code",
   "execution_count": 48,
   "metadata": {},
   "outputs": [
    {
     "data": {
      "text/html": [
       "<div>\n",
       "<style scoped>\n",
       "    .dataframe tbody tr th:only-of-type {\n",
       "        vertical-align: middle;\n",
       "    }\n",
       "\n",
       "    .dataframe tbody tr th {\n",
       "        vertical-align: top;\n",
       "    }\n",
       "\n",
       "    .dataframe thead th {\n",
       "        text-align: right;\n",
       "    }\n",
       "</style>\n",
       "<table border=\"1\" class=\"dataframe\">\n",
       "  <thead>\n",
       "    <tr style=\"text-align: right;\">\n",
       "      <th></th>\n",
       "      <th>Title</th>\n",
       "      <th>Review</th>\n",
       "      <th>Review Rating</th>\n",
       "    </tr>\n",
       "  </thead>\n",
       "  <tbody>\n",
       "    <tr>\n",
       "      <th>0</th>\n",
       "      <td>Black Adam</td>\n",
       "      <td>Black Adam is not without its flaws, but i sti...</td>\n",
       "      <td>8</td>\n",
       "    </tr>\n",
       "    <tr>\n",
       "      <th>1</th>\n",
       "      <td>Black Adam</td>\n",
       "      <td>Black Adam is the perfect example of how inacc...</td>\n",
       "      <td>7</td>\n",
       "    </tr>\n",
       "    <tr>\n",
       "      <th>2</th>\n",
       "      <td>Black Adam</td>\n",
       "      <td>What a movie! The special effects are really i...</td>\n",
       "      <td>8</td>\n",
       "    </tr>\n",
       "    <tr>\n",
       "      <th>3</th>\n",
       "      <td>Black Adam</td>\n",
       "      <td>In the superhero movie genre I would rank this...</td>\n",
       "      <td>7</td>\n",
       "    </tr>\n",
       "    <tr>\n",
       "      <th>4</th>\n",
       "      <td>Black Adam</td>\n",
       "      <td>I had no knowledge about Black Adam prior to s...</td>\n",
       "      <td>8</td>\n",
       "    </tr>\n",
       "    <tr>\n",
       "      <th>...</th>\n",
       "      <td>...</td>\n",
       "      <td>...</td>\n",
       "      <td>...</td>\n",
       "    </tr>\n",
       "    <tr>\n",
       "      <th>187</th>\n",
       "      <td>Black Panther: Wakanda Forever</td>\n",
       "      <td>There is little originality in this. No surpri...</td>\n",
       "      <td>4</td>\n",
       "    </tr>\n",
       "    <tr>\n",
       "      <th>188</th>\n",
       "      <td>Black Panther: Wakanda Forever</td>\n",
       "      <td>Black Adam (2022) is a movie my wife and I saw...</td>\n",
       "      <td>8</td>\n",
       "    </tr>\n",
       "    <tr>\n",
       "      <th>189</th>\n",
       "      <td>Black Panther: Wakanda Forever</td>\n",
       "      <td>Amid all the negative reviews and expectations...</td>\n",
       "      <td>6</td>\n",
       "    </tr>\n",
       "    <tr>\n",
       "      <th>190</th>\n",
       "      <td>Black Panther: Wakanda Forever</td>\n",
       "      <td>Admittedly far from impressive, doesn't reinve...</td>\n",
       "      <td>7</td>\n",
       "    </tr>\n",
       "    <tr>\n",
       "      <th>191</th>\n",
       "      <td>Black Panther: Wakanda Forever</td>\n",
       "      <td>As far as superhero movies go, Black Adam was ...</td>\n",
       "      <td>8</td>\n",
       "    </tr>\n",
       "  </tbody>\n",
       "</table>\n",
       "<p>192 rows × 3 columns</p>\n",
       "</div>"
      ],
      "text/plain": [
       "                              Title  \\\n",
       "0                        Black Adam   \n",
       "1                        Black Adam   \n",
       "2                        Black Adam   \n",
       "3                        Black Adam   \n",
       "4                        Black Adam   \n",
       "..                              ...   \n",
       "187  Black Panther: Wakanda Forever   \n",
       "188  Black Panther: Wakanda Forever   \n",
       "189  Black Panther: Wakanda Forever   \n",
       "190  Black Panther: Wakanda Forever   \n",
       "191  Black Panther: Wakanda Forever   \n",
       "\n",
       "                                                Review Review Rating  \n",
       "0    Black Adam is not without its flaws, but i sti...             8  \n",
       "1    Black Adam is the perfect example of how inacc...             7  \n",
       "2    What a movie! The special effects are really i...             8  \n",
       "3    In the superhero movie genre I would rank this...             7  \n",
       "4    I had no knowledge about Black Adam prior to s...             8  \n",
       "..                                                 ...           ...  \n",
       "187  There is little originality in this. No surpri...             4  \n",
       "188  Black Adam (2022) is a movie my wife and I saw...             8  \n",
       "189  Amid all the negative reviews and expectations...             6  \n",
       "190  Admittedly far from impressive, doesn't reinve...             7  \n",
       "191  As far as superhero movies go, Black Adam was ...             8  \n",
       "\n",
       "[192 rows x 3 columns]"
      ]
     },
     "execution_count": 48,
     "metadata": {},
     "output_type": "execute_result"
    }
   ],
   "source": [
    "for id in ids:\n",
    "  reviews=imdb.get_title_user_reviews(id)['reviews']\n",
    "  # print(reviews)\n",
    "  for review in reviews:\n",
    "    reviewText=review['reviewText']\n",
    "    try:\n",
    "      rating=review['authorRating']\n",
    "    except:\n",
    "      rating=\"NA\"\n",
    "    else:\n",
    "      df.loc[i]=[title,reviewText,rating]\n",
    "      i=i+1\n",
    "df"
   ]
  }
 ],
 "metadata": {
  "kernelspec": {
   "display_name": "Python 3.7.7 64-bit",
   "language": "python",
   "name": "python3"
  },
  "language_info": {
   "codemirror_mode": {
    "name": "ipython",
    "version": 3
   },
   "file_extension": ".py",
   "mimetype": "text/x-python",
   "name": "python",
   "nbconvert_exporter": "python",
   "pygments_lexer": "ipython3",
   "version": "3.7.7"
  },
  "orig_nbformat": 4,
  "vscode": {
   "interpreter": {
    "hash": "aba257262fddbabb4bdbb672c296781410c54125b9dd9ae65f0141fbb681ef2e"
   }
  }
 },
 "nbformat": 4,
 "nbformat_minor": 2
}
